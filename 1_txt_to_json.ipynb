{
 "cells": [
  {
   "cell_type": "code",
   "execution_count": 1,
   "metadata": {},
   "outputs": [
    {
     "name": "stdout",
     "output_type": "stream",
     "text": [
      "images/2007_000123.jpg,\"[{'class': 'dogs', 'points': [(1, 26), (358, 340)]}]\"\n",
      "\n",
      "img_name: images/2007_000123.jpg\n",
      "class_name: dogs\n",
      "bbox_anno: ['1', ' 26', ' 358', ' 340']\n",
      "images/2007_000027.jpg,\"[{'class': 'person', 'points': [(174, 101), (349, 351)]}]\"\n",
      "\n",
      "img_name: images/2007_000027.jpg\n",
      "class_name: person\n",
      "bbox_anno: ['174', ' 101', ' 349', ' 351']\n",
      "images/2007_000027.jpg,\"[{'class': 'person', 'points': [(174, 101), (349, 351)]}]\"\n",
      "img_name: images/2007_000027.jpg\n",
      "class_name: person\n",
      "bbox_anno: ['174', ' 101', ' 349', ' 351']\n"
     ]
    }
   ],
   "source": [
    "import json\n",
    "f = open(\"./input/test.txt\")\n",
    "#line = f.readline()\n",
    "temp_dict = []\n",
    "\n",
    "for line in f:\n",
    "    print(line)\n",
    "    anno = line.split(\",\", 1)\n",
    "    img_name = str(anno[0])\n",
    "    print('img_name:', img_name)\n",
    "\n",
    "    if len(anno[1])>3:\n",
    "        # print(anno[1])\n",
    "        class_anno = str(anno[1]).split(\",\", 1)\n",
    "        # print('class_anno:', class_anno[1])\n",
    "        class_name = str(class_anno[0]).split(\":\")[1].strip(\" ' \")\n",
    "        print('class_name:', class_name)\n",
    "        bbox_anno = str(class_anno[1]).split(\":\")[1].split(\"}\")[0]\n",
    "        bbox_anno = bbox_anno.strip(\" [ \").strip(\" ] \").replace('(', '').replace(\")\",'')\n",
    "        bbox_anno = bbox_anno.split(\",\")\n",
    "        print('bbox_anno:', bbox_anno)\n",
    "\n",
    "        content = {}\n",
    "        content[\"img_name\"] = img_name\n",
    "        content['class_name'] = class_name\n",
    "        content['bbox_anno'] = bbox_anno\n",
    "        temp_dict.append(content)\n",
    "\n",
    "f.close()\n",
    "\n",
    "\n",
    "submit = './output/test.json'\n",
    "with open(submit, 'a',encoding='utf-8') as file:\n",
    "    json.dump(temp_dict, file,ensure_ascii=False)\n",
    "file.close()"
   ]
  }
 ],
 "metadata": {
  "kernelspec": {
   "display_name": "torch113",
   "language": "python",
   "name": "torch113"
  },
  "language_info": {
   "codemirror_mode": {
    "name": "ipython",
    "version": 3
   },
   "file_extension": ".py",
   "mimetype": "text/x-python",
   "name": "python",
   "nbconvert_exporter": "python",
   "pygments_lexer": "ipython3",
   "version": "3.9.16"
  },
  "orig_nbformat": 4
 },
 "nbformat": 4,
 "nbformat_minor": 2
}
