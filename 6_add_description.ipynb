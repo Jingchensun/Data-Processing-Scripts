{
 "cells": [
  {
   "cell_type": "code",
   "execution_count": 1,
   "metadata": {},
   "outputs": [],
   "source": [
    "import json\n",
    "import os\n",
    "\n",
    "type1 = 'CCM/'\n",
    "input_file = \"/home/jingchen/data/diffusq/\" + type1\n",
    "dir_save = \"/home/jingchen/data/diffusq/new/\" + type1\n",
    "discription = \"This is an open-domain dialogue task. In this task you will be given a dialogue context and you need generate informative responses . E.g., the context is : \"\n",
    "if not os.path.exists(dir_save):\n",
    "    os.makedirs(dir_save)\n",
    "\n",
    "for i in [ 'test.jsonl', 'valid.jsonl']: #  ,'train.jsonl'\n",
    "    input_name = input_file + i\n",
    "    out_name = dir_save + i\n",
    "\n",
    "    with open(out_name, \"w\") as k:\n",
    "        with open(input_name, \"r\") as f:\n",
    "            for line in f:\n",
    "                data = json.loads(line)\n",
    "                # print(data['src'])\n",
    "                data['src'] = discription + data['src']\n",
    "                # print(data['src'])\n",
    "                k.write(json.dumps(data) + \"\\n\")\n"
   ]
  },
  {
   "cell_type": "code",
   "execution_count": 1,
   "metadata": {},
   "outputs": [],
   "source": [
    "import json\n",
    "import os\n",
    "\n",
    "type1 = 'OpenQA/'\n",
    "input_file = \"/home/jingchen/data/diffusq/\" + type1\n",
    "dir_save = \"/home/jingchen/data/diffusq/new/\" + type1\n",
    "discription = \"This is a question generation task that aims to generate questions given a context as input . The input context is : \"\n",
    "if not os.path.exists(dir_save):\n",
    "    os.makedirs(dir_save)\n",
    "\n",
    "for i in [ 'test.jsonl', 'valid.jsonl','train.jsonl']: #  \n",
    "    input_name = input_file + i\n",
    "    out_name = dir_save + i\n",
    "\n",
    "    with open(out_name, \"w\") as k:\n",
    "        with open(input_name, \"r\") as f:\n",
    "            for line in f:\n",
    "                data = json.loads(line)\n",
    "                # print(data['src'])\n",
    "                data['src'] = discription + data['src']\n",
    "                # print(data['src'])\n",
    "                k.write(json.dumps(data) + \"\\n\")\n"
   ]
  },
  {
   "cell_type": "code",
   "execution_count": 1,
   "metadata": {},
   "outputs": [],
   "source": [
    "import json\n",
    "import os\n",
    "\n",
    "type1 = 'WikiAuto/'\n",
    "input_file = \"/home/jingchen/data/diffusq/\" + type1\n",
    "dir_save = \"/home/jingchen/data/diffusq/new/\" + type1\n",
    "discription = \"This is a text simplification task that aims to revise the complex text into sequences with simplified grammar and word choice. The complex text is : \"\n",
    "if not os.path.exists(dir_save):\n",
    "    os.makedirs(dir_save)\n",
    "\n",
    "for i in [ 'test.jsonl', 'valid.jsonl','train.jsonl']: #  \n",
    "    input_name = input_file + i\n",
    "    out_name = dir_save + i\n",
    "\n",
    "    with open(out_name, \"w\") as k:\n",
    "        with open(input_name, \"r\") as f:\n",
    "            for line in f:\n",
    "                data = json.loads(line)\n",
    "                # print(data['src'])\n",
    "                data['src'] = discription + data['src']\n",
    "                # print(data['src'])\n",
    "                k.write(json.dumps(data) + \"\\n\")\n"
   ]
  },
  {
   "cell_type": "code",
   "execution_count": 2,
   "metadata": {},
   "outputs": [],
   "source": [
    "import json\n",
    "import os\n",
    "\n",
    "type1 = 'Kaggle/'\n",
    "input_file = \"/home/jingchen/data/diffusq/\" + type1\n",
    "dir_save = \"/home/jingchen/data/diffusq/new/\" + type1\n",
    "discription = \"This is a paraphrasing task that generates an alternative surface form in the same language expressing the same semantic content. The input is : \"\n",
    "if not os.path.exists(dir_save):\n",
    "    os.makedirs(dir_save)\n",
    "\n",
    "for i in [ 'test.jsonl', 'valid.jsonl','train.jsonl']: #  \n",
    "    input_name = input_file + i\n",
    "    out_name = dir_save + i\n",
    "\n",
    "    with open(out_name, \"w\") as k:\n",
    "        with open(input_name, \"r\") as f:\n",
    "            for line in f:\n",
    "                data = json.loads(line)\n",
    "                # print(data['src'])\n",
    "                data['src'] = discription + data['src']\n",
    "                # print(data['src'])\n",
    "                k.write(json.dumps(data) + \"\\n\")\n"
   ]
  }
 ],
 "metadata": {
  "kernelspec": {
   "display_name": "torch200",
   "language": "python",
   "name": "torch200"
  },
  "language_info": {
   "codemirror_mode": {
    "name": "ipython",
    "version": 3
   },
   "file_extension": ".py",
   "mimetype": "text/x-python",
   "name": "python",
   "nbconvert_exporter": "python",
   "pygments_lexer": "ipython3",
   "version": "3.8.17"
  },
  "orig_nbformat": 4
 },
 "nbformat": 4,
 "nbformat_minor": 2
}
