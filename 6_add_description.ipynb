{
 "cells": [
  {
   "cell_type": "code",
   "execution_count": 2,
   "metadata": {},
   "outputs": [
    {
     "name": "stdout",
     "output_type": "stream",
     "text": [
      "train.jsonl\n",
      "test.jsonl\n",
      "valid.jsonl\n"
     ]
    }
   ],
   "source": [
    "import json\n",
    "import os\n",
    "\n",
    "\n",
    "# FILE_NAME = \"/home/jingchen/data/natural-instructions/new_natural/Pure_English/task208_combinations_of_list.jsonl\"\n",
    "input_file = \"/home/jingchen/data/diffusq/CCM/\"\n",
    "\n",
    "type1 = 'CCM/'\n",
    "dir_save = \"/home/jingchen/data/diffusq/\" + type1 + \"new/\"\n",
    "if not os.path.exists(dir_save):\n",
    "    os.makedirs(dir_save)\n",
    "\n",
    "for i in [ 'train.jsonl', 'test.jsonl', 'valid.jsonl']:\n",
    "    input_name = input_file + i\n",
    "    out_name = dir_save + i\n",
    "\n",
    "    with open(out_name, \"w\") as k:\n",
    "        with open(input_name, \"r\") as f:\n",
    "            # i = 0\n",
    "            for line in f:\n",
    "                data = json.loads(line)\n",
    "                # i+=1\n",
    "                print(data['src'])\n",
    "                data['src'] = \"This is an open-domain dialogue task. In this task you will be given a dialogue context and you need generate informative responses . E.g., the context is : \" + data['src']\n",
    "                print(data['src'])\n",
    "                k.write(json.dumps(data) + \"\\n\")\n",
    "            break\n",
    "# print(i)"
   ]
  },
  {
   "cell_type": "code",
   "execution_count": null,
   "metadata": {},
   "outputs": [],
   "source": []
  }
 ],
 "metadata": {
  "kernelspec": {
   "display_name": "torch200",
   "language": "python",
   "name": "torch200"
  },
  "language_info": {
   "codemirror_mode": {
    "name": "ipython",
    "version": 3
   },
   "file_extension": ".py",
   "mimetype": "text/x-python",
   "name": "python",
   "nbconvert_exporter": "python",
   "pygments_lexer": "ipython3",
   "version": "3.8.17"
  },
  "orig_nbformat": 4
 },
 "nbformat": 4,
 "nbformat_minor": 2
}
