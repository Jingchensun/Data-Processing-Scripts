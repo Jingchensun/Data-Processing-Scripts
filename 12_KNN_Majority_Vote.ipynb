{
 "cells": [
  {
   "cell_type": "code",
   "execution_count": 6,
   "metadata": {},
   "outputs": [
    {
     "name": "stdout",
     "output_type": "stream",
     "text": [
      "[3.5355339059327378, 2.1213203435596424, 0.7071067811865476, 0.7071067811865476, 2.1213203435596424, 3.5355339059327378]\n",
      "[2 3 1]\n",
      "[1, 1, 0]\n",
      "[(1, 2), (0, 1)]\n",
      "Predicted label for X_test: 0\n"
     ]
    }
   ],
   "source": [
    "import numpy as np\n",
    "\n",
    "# 生成示例数据集\n",
    "X = np.array([[1, 2], [2, 3], [3, 4], [4, 5], [5, 6], [6, 7]])\n",
    "y = np.array([0, 0, 1, 1, 0, 1])\n",
    "\n",
    "from collections import Counter\n",
    "\n",
    "\n",
    "def knn_predict(X_train, y_train, X_test, k):\n",
    "    # 计算待预测数据点与训练集中所有数据点的距离\n",
    "    distances = [np.linalg.norm(x - X_test) for x in X_train]\n",
    "    print(distances)\n",
    "    # 找到距离最近的k个数据点的索引\n",
    "    k_indices = np.argsort(distances)[:k]\n",
    "    print(k_indices)\n",
    "    # 获取这k个最近邻的类别标签\n",
    "    k_nearest_labels = [y_train[i] for i in k_indices]\n",
    "    print(k_nearest_labels)\n",
    "    # 使用多数投票确定预测的类别标签\n",
    "    most_common = Counter(k_nearest_labels).most_common(2)\n",
    "    print(most_common)\n",
    "    return most_common[1][0]\n",
    "\n",
    "# 待预测数据点\n",
    "X_test = np.array([3.5, 4.5])\n",
    "\n",
    "# 使用k-Nearest Neighbor进行预测\n",
    "k = 3  # 选择k值\n",
    "predicted_label = knn_predict(X, y, X_test, k)\n",
    "print(f\"Predicted label for X_test: {predicted_label}\")\n"
   ]
  },
  {
   "cell_type": "code",
   "execution_count": 2,
   "metadata": {},
   "outputs": [
    {
     "name": "stdout",
     "output_type": "stream",
     "text": [
      "3\n",
      "2\n",
      "1\n",
      "apple: 3\n",
      "banana: 2\n",
      "orange: 1\n"
     ]
    }
   ],
   "source": [
    "from collections import Counter\n",
    "\n",
    "# 创建一个Counter对象\n",
    "fruit_counter = Counter(['apple', 'banana', 'apple', 'orange', 'banana', 'apple'])\n",
    "\n",
    "# 查询元素的计数\n",
    "print(fruit_counter['apple'])  # 输出: 3\n",
    "print(fruit_counter['banana'])  # 输出: 2\n",
    "print(fruit_counter['orange'])  # 输出: 1\n",
    "\n",
    "# 遍历元素和计数\n",
    "for fruit, count in fruit_counter.items():\n",
    "    print(f\"{fruit}: {count}\")\n",
    "# 输出:\n",
    "# apple: 3\n",
    "# banana: 2\n",
    "# orange: 1\n"
   ]
  }
 ],
 "metadata": {
  "kernelspec": {
   "display_name": "torch200",
   "language": "python",
   "name": "torch200"
  },
  "language_info": {
   "codemirror_mode": {
    "name": "ipython",
    "version": 3
   },
   "file_extension": ".py",
   "mimetype": "text/x-python",
   "name": "python",
   "nbconvert_exporter": "python",
   "pygments_lexer": "ipython3",
   "version": "3.8.17"
  },
  "orig_nbformat": 4
 },
 "nbformat": 4,
 "nbformat_minor": 2
}
