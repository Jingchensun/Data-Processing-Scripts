{
 "cells": [
  {
   "cell_type": "code",
   "execution_count": 4,
   "metadata": {},
   "outputs": [
    {
     "name": "stdout",
     "output_type": "stream",
     "text": [
      "Results without Importance Resampling:\n",
      "              precision    recall  f1-score   support\n",
      "\n",
      "           0       0.00      0.00      0.00         6\n",
      "           1       0.98      1.00      0.99       294\n",
      "\n",
      "    accuracy                           0.98       300\n",
      "   macro avg       0.49      0.50      0.49       300\n",
      "weighted avg       0.96      0.98      0.97       300\n",
      "\n",
      "20 680\n",
      "0.029411764705882353\n",
      "\n",
      "Results with Importance Resampling:\n",
      "              precision    recall  f1-score   support\n",
      "\n",
      "           0       0.06      0.83      0.11         6\n",
      "           1       1.00      0.74      0.85       294\n",
      "\n",
      "    accuracy                           0.74       300\n",
      "   macro avg       0.53      0.79      0.48       300\n",
      "weighted avg       0.98      0.74      0.84       300\n",
      "\n"
     ]
    }
   ],
   "source": [
    "import numpy as np\n",
    "from sklearn.datasets import make_classification\n",
    "from sklearn.model_selection import train_test_split\n",
    "from sklearn.linear_model import LogisticRegression\n",
    "from sklearn.metrics import classification_report\n",
    "\n",
    "# 创建一个不平衡数据集（示例中正例较少）\n",
    "X, y = make_classification(n_samples=1000, n_features=20, weights=[0.02, 0.98], random_state=42)\n",
    "\n",
    "# 划分数据集为训练集和测试集\n",
    "X_train, X_test, y_train, y_test = train_test_split(X, y, test_size=0.3, random_state=42)\n",
    "\n",
    "# 训练逻辑回归分类器（未经过重要性采样）\n",
    "model_original = LogisticRegression()\n",
    "model_original.fit(X_train, y_train)\n",
    "\n",
    "# 在测试集上进行预测和评估（未经过重要性采样）\n",
    "y_pred_original = model_original.predict(X_test)\n",
    "print(\"Results without Importance Resampling:\")\n",
    "print(classification_report(y_test, y_pred_original))\n",
    "\n",
    "# 使用重要性 resampling 调整数据集\n",
    "positive_samples = X_train[y_train == 1]\n",
    "negative_samples = X_train[y_train == 0]\n",
    "\n",
    "# 计算正例和负例的样本权重\n",
    "positive_weight = len(negative_samples) / len(positive_samples)\n",
    "print(len(negative_samples) , len(positive_samples)) #20, 680\n",
    "print(positive_weight)\n",
    "negative_weight = 1.0\n",
    "\n",
    "# 使用重要性加权调整样本\n",
    "adjusted_samples = np.vstack((positive_samples, negative_samples))\n",
    "adjusted_labels = np.hstack(([1] * len(positive_samples), [0] * len(negative_samples)))\n",
    "sample_weights = np.hstack(([positive_weight] * len(positive_samples), [negative_weight] * len(negative_samples)))\n",
    "\n",
    "# 训练逻辑回归分类器（经过重要性采样）\n",
    "model_adjusted = LogisticRegression()\n",
    "model_adjusted.fit(adjusted_samples, adjusted_labels, sample_weight=sample_weights)\n",
    "\n",
    "# 在测试集上进行预测和评估（经过重要性采样）\n",
    "y_pred_adjusted = model_adjusted.predict(X_test)\n",
    "print(\"\\nResults with Importance Resampling:\")\n",
    "print(classification_report(y_test, y_pred_adjusted))\n"
   ]
  }
 ],
 "metadata": {
  "kernelspec": {
   "display_name": "torch200",
   "language": "python",
   "name": "torch200"
  },
  "language_info": {
   "codemirror_mode": {
    "name": "ipython",
    "version": 3
   },
   "file_extension": ".py",
   "mimetype": "text/x-python",
   "name": "python",
   "nbconvert_exporter": "python",
   "pygments_lexer": "ipython3",
   "version": "3.8.17"
  },
  "orig_nbformat": 4
 },
 "nbformat": 4,
 "nbformat_minor": 2
}
